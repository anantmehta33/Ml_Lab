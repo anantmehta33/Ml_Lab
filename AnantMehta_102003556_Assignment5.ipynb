{
 "cells": [
  {
   "cell_type": "markdown",
   "id": "b219b9b0",
   "metadata": {},
   "source": [
    "Q1 Multiclass Logistic Regression Implement Multiclass Logistic Regression (step-by-\n",
    "step) on Iris dataset using one vs. rest strategy?"
   ]
  },
  {
   "cell_type": "code",
   "execution_count": 1,
   "id": "bbdb0f91",
   "metadata": {},
   "outputs": [],
   "source": [
    "import pandas as pd\n",
    "import numpy as np"
   ]
  },
  {
   "cell_type": "code",
   "execution_count": 2,
   "id": "2fba928a",
   "metadata": {},
   "outputs": [],
   "source": [
    "df=pd.read_csv('iris.csv')"
   ]
  },
  {
   "cell_type": "code",
   "execution_count": 3,
   "id": "b8cda4ae",
   "metadata": {},
   "outputs": [],
   "source": [
    "#implementing the algorithm for predicting if its 'Iris Setosa'"
   ]
  },
  {
   "cell_type": "code",
   "execution_count": 4,
   "id": "8e65786e",
   "metadata": {},
   "outputs": [],
   "source": [
    "x_pred=df.iloc[101:102,:-1].values # for testing a setosa class species"
   ]
  },
  {
   "cell_type": "code",
   "execution_count": 5,
   "id": "cc1e63fc",
   "metadata": {},
   "outputs": [],
   "source": [
    "# extract sepal length and sepal width of setosa and versicolor for our binary calssification problem\n",
    "X = df.iloc[:100,:-1].values\n",
    "y = df.iloc[:100, 5].values\n",
    "# set output lable value to 1 if it is setosa and 0 if versicolor.\n",
    "y = np.where(y == 'Iris-setosa', 1, 0)"
   ]
  },
  {
   "cell_type": "code",
   "execution_count": 6,
   "id": "a5d498b9",
   "metadata": {},
   "outputs": [],
   "source": [
    "# features standerdization\n",
    "X_std = np.copy(X)\n",
    "X_std[:,0] = (X_std[:,0] - X_std[:,0].mean()) / X_std[:,0].std()\n",
    "X_std[:,1] = (X_std[:,1] - X_std[:,1].mean()) / X_std[:,1].std()"
   ]
  },
  {
   "cell_type": "code",
   "execution_count": 7,
   "id": "fd2705ab",
   "metadata": {},
   "outputs": [
    {
     "data": {
      "text/plain": [
       "array([1, 1, 1, 1, 1, 1, 1, 1, 1, 1, 1, 1, 1, 1, 1, 1, 1, 1, 1, 1, 1, 1,\n",
       "       1, 1, 1, 1, 1, 1, 1, 1, 1, 1, 1, 1, 1, 1, 1, 1, 1, 1, 1, 1, 1, 1,\n",
       "       1, 1, 1, 1, 1, 1, 0, 0, 0, 0, 0, 0, 0, 0, 0, 0, 0, 0, 0, 0, 0, 0,\n",
       "       0, 0, 0, 0, 0, 0, 0, 0, 0, 0, 0, 0, 0, 0, 0, 0, 0, 0, 0, 0, 0, 0,\n",
       "       0, 0, 0, 0, 0, 0, 0, 0, 0, 0, 0, 0])"
      ]
     },
     "execution_count": 7,
     "metadata": {},
     "output_type": "execute_result"
    }
   ],
   "source": [
    "y"
   ]
  },
  {
   "cell_type": "code",
   "execution_count": 8,
   "id": "e5e9289c",
   "metadata": {},
   "outputs": [],
   "source": [
    "def sigmoid(X, theta):\n",
    "    z = np.dot(X, theta[1:]) + theta[0]\n",
    "    return 1.0 / ( 1.0 + np.exp(-z))"
   ]
  },
  {
   "cell_type": "code",
   "execution_count": 9,
   "id": "80f394fa",
   "metadata": {},
   "outputs": [],
   "source": [
    "def lrCostFunction(y, hx):\n",
    "    # compute cost for given theta parameters\n",
    "    j = -y.dot(np.log(hx)) - ((1 - y).dot(np.log(1-hx)))\n",
    "    return j"
   ]
  },
  {
   "cell_type": "code",
   "execution_count": 10,
   "id": "ec2ca4df",
   "metadata": {},
   "outputs": [],
   "source": [
    "# Gradient Descent function to minimize the Logistic Regression Cost Function.\n",
    "def lrGradient(X, y, theta, alpha, num_iter):\n",
    "    # empty list to store the value of the cost function over number of iterations\n",
    "    cost = []\n",
    "    for i in range(num_iter):\n",
    "        # call sigmoid function \n",
    "        hx = sigmoid(X, theta)\n",
    "        # calculate error\n",
    "        error = hx - y\n",
    "        # calculate gradient\n",
    "        grad = X.T.dot(error)\n",
    "        # update values in theta\n",
    "        theta[0] = theta[0] - alpha * error.sum()\n",
    "        theta[1:] = theta[1:] - alpha * grad\n",
    "        cost.append(lrCostFunction(y, hx))\n",
    "    return cost      "
   ]
  },
  {
   "cell_type": "code",
   "execution_count": 11,
   "id": "5d6aaae8",
   "metadata": {},
   "outputs": [],
   "source": [
    "# m = Number of training examples\n",
    "# n = number of features\n",
    "m, n = X.shape\n",
    "# initialize theta(weights) parameters to zeros\n",
    "theta = np.zeros(1+n)\n",
    "# Have set learning rate to 0.01 and number of iterations to 500\n",
    "alpha = 0.01\n",
    "num_iter = 500\n",
    "cost = lrGradient(X_std, y, theta, alpha, num_iter)"
   ]
  },
  {
   "cell_type": "code",
   "execution_count": 12,
   "id": "7064691c",
   "metadata": {},
   "outputs": [],
   "source": [
    "# function to predict the output label using the parameters\n",
    "def lrPredict(X):\n",
    "    return np.where(sigmoid(X,theta) >= 0.5, 1, 0)"
   ]
  },
  {
   "cell_type": "code",
   "execution_count": 14,
   "id": "cc178e13",
   "metadata": {},
   "outputs": [
    {
     "name": "stdout",
     "output_type": "stream",
     "text": [
      "The following example belongs to Setosa class\n"
     ]
    }
   ],
   "source": [
    "if lrPredict(x_pred) == np.array([0]):\n",
    "    print('The following example belongs to Setosa class')\n",
    "else :\n",
    "    print('Does not belong to Setosa Class')"
   ]
  },
  {
   "cell_type": "markdown",
   "id": "9cd9577b",
   "metadata": {},
   "source": [
    "Q2 Ridge Logistic Regression Download the exam dataset from the following link:\n",
    "https://drive.google.com/file/d/1wH6ofvNGPmORFlCLt72WGhJYPZiXstYh/view\n",
    "?usp=sharing\n",
    "The dataset labels that whether or not the student will get admission on the basis of\n",
    "the two exam scores. The plot of the data against exam1 and exam2"
   ]
  },
  {
   "cell_type": "code",
   "execution_count": 15,
   "id": "03205be7",
   "metadata": {},
   "outputs": [],
   "source": [
    "url='https://drive.google.com/file/d/1wH6ofvNGPmORFlCLt72WGhJYPZiXstYh/view?usp=sharing'\n",
    "url='https://drive.google.com/uc?id=' + url.split('/')[-2]\n",
    "df = pd.read_csv(url)"
   ]
  },
  {
   "cell_type": "code",
   "execution_count": 16,
   "id": "4520dfea",
   "metadata": {},
   "outputs": [
    {
     "data": {
      "text/html": [
       "<div>\n",
       "<style scoped>\n",
       "    .dataframe tbody tr th:only-of-type {\n",
       "        vertical-align: middle;\n",
       "    }\n",
       "\n",
       "    .dataframe tbody tr th {\n",
       "        vertical-align: top;\n",
       "    }\n",
       "\n",
       "    .dataframe thead th {\n",
       "        text-align: right;\n",
       "    }\n",
       "</style>\n",
       "<table border=\"1\" class=\"dataframe\">\n",
       "  <thead>\n",
       "    <tr style=\"text-align: right;\">\n",
       "      <th></th>\n",
       "      <th>0.051267</th>\n",
       "      <th>0.69956</th>\n",
       "      <th>1</th>\n",
       "    </tr>\n",
       "  </thead>\n",
       "  <tbody>\n",
       "    <tr>\n",
       "      <th>0</th>\n",
       "      <td>-0.092742</td>\n",
       "      <td>0.684940</td>\n",
       "      <td>1</td>\n",
       "    </tr>\n",
       "    <tr>\n",
       "      <th>1</th>\n",
       "      <td>-0.213710</td>\n",
       "      <td>0.692250</td>\n",
       "      <td>1</td>\n",
       "    </tr>\n",
       "    <tr>\n",
       "      <th>2</th>\n",
       "      <td>-0.375000</td>\n",
       "      <td>0.502190</td>\n",
       "      <td>1</td>\n",
       "    </tr>\n",
       "    <tr>\n",
       "      <th>3</th>\n",
       "      <td>-0.513250</td>\n",
       "      <td>0.465640</td>\n",
       "      <td>1</td>\n",
       "    </tr>\n",
       "    <tr>\n",
       "      <th>4</th>\n",
       "      <td>-0.524770</td>\n",
       "      <td>0.209800</td>\n",
       "      <td>1</td>\n",
       "    </tr>\n",
       "    <tr>\n",
       "      <th>...</th>\n",
       "      <td>...</td>\n",
       "      <td>...</td>\n",
       "      <td>...</td>\n",
       "    </tr>\n",
       "    <tr>\n",
       "      <th>112</th>\n",
       "      <td>-0.720620</td>\n",
       "      <td>0.538740</td>\n",
       "      <td>0</td>\n",
       "    </tr>\n",
       "    <tr>\n",
       "      <th>113</th>\n",
       "      <td>-0.593890</td>\n",
       "      <td>0.494880</td>\n",
       "      <td>0</td>\n",
       "    </tr>\n",
       "    <tr>\n",
       "      <th>114</th>\n",
       "      <td>-0.484450</td>\n",
       "      <td>0.999270</td>\n",
       "      <td>0</td>\n",
       "    </tr>\n",
       "    <tr>\n",
       "      <th>115</th>\n",
       "      <td>-0.006336</td>\n",
       "      <td>0.999270</td>\n",
       "      <td>0</td>\n",
       "    </tr>\n",
       "    <tr>\n",
       "      <th>116</th>\n",
       "      <td>0.632650</td>\n",
       "      <td>-0.030612</td>\n",
       "      <td>0</td>\n",
       "    </tr>\n",
       "  </tbody>\n",
       "</table>\n",
       "<p>117 rows × 3 columns</p>\n",
       "</div>"
      ],
      "text/plain": [
       "     0.051267   0.69956  1\n",
       "0   -0.092742  0.684940  1\n",
       "1   -0.213710  0.692250  1\n",
       "2   -0.375000  0.502190  1\n",
       "3   -0.513250  0.465640  1\n",
       "4   -0.524770  0.209800  1\n",
       "..        ...       ... ..\n",
       "112 -0.720620  0.538740  0\n",
       "113 -0.593890  0.494880  0\n",
       "114 -0.484450  0.999270  0\n",
       "115 -0.006336  0.999270  0\n",
       "116  0.632650 -0.030612  0\n",
       "\n",
       "[117 rows x 3 columns]"
      ]
     },
     "execution_count": 16,
     "metadata": {},
     "output_type": "execute_result"
    }
   ],
   "source": [
    "df"
   ]
  },
  {
   "cell_type": "code",
   "execution_count": 17,
   "id": "4e624f59",
   "metadata": {},
   "outputs": [
    {
     "data": {
      "text/html": [
       "<div>\n",
       "<style scoped>\n",
       "    .dataframe tbody tr th:only-of-type {\n",
       "        vertical-align: middle;\n",
       "    }\n",
       "\n",
       "    .dataframe tbody tr th {\n",
       "        vertical-align: top;\n",
       "    }\n",
       "\n",
       "    .dataframe thead th {\n",
       "        text-align: right;\n",
       "    }\n",
       "</style>\n",
       "<table border=\"1\" class=\"dataframe\">\n",
       "  <thead>\n",
       "    <tr style=\"text-align: right;\">\n",
       "      <th></th>\n",
       "      <th>0.051267</th>\n",
       "      <th>0.69956</th>\n",
       "    </tr>\n",
       "  </thead>\n",
       "  <tbody>\n",
       "    <tr>\n",
       "      <th>0</th>\n",
       "      <td>-0.092742</td>\n",
       "      <td>0.684940</td>\n",
       "    </tr>\n",
       "    <tr>\n",
       "      <th>1</th>\n",
       "      <td>-0.213710</td>\n",
       "      <td>0.692250</td>\n",
       "    </tr>\n",
       "    <tr>\n",
       "      <th>2</th>\n",
       "      <td>-0.375000</td>\n",
       "      <td>0.502190</td>\n",
       "    </tr>\n",
       "    <tr>\n",
       "      <th>3</th>\n",
       "      <td>-0.513250</td>\n",
       "      <td>0.465640</td>\n",
       "    </tr>\n",
       "    <tr>\n",
       "      <th>4</th>\n",
       "      <td>-0.524770</td>\n",
       "      <td>0.209800</td>\n",
       "    </tr>\n",
       "    <tr>\n",
       "      <th>...</th>\n",
       "      <td>...</td>\n",
       "      <td>...</td>\n",
       "    </tr>\n",
       "    <tr>\n",
       "      <th>112</th>\n",
       "      <td>-0.720620</td>\n",
       "      <td>0.538740</td>\n",
       "    </tr>\n",
       "    <tr>\n",
       "      <th>113</th>\n",
       "      <td>-0.593890</td>\n",
       "      <td>0.494880</td>\n",
       "    </tr>\n",
       "    <tr>\n",
       "      <th>114</th>\n",
       "      <td>-0.484450</td>\n",
       "      <td>0.999270</td>\n",
       "    </tr>\n",
       "    <tr>\n",
       "      <th>115</th>\n",
       "      <td>-0.006336</td>\n",
       "      <td>0.999270</td>\n",
       "    </tr>\n",
       "    <tr>\n",
       "      <th>116</th>\n",
       "      <td>0.632650</td>\n",
       "      <td>-0.030612</td>\n",
       "    </tr>\n",
       "  </tbody>\n",
       "</table>\n",
       "<p>117 rows × 2 columns</p>\n",
       "</div>"
      ],
      "text/plain": [
       "     0.051267   0.69956\n",
       "0   -0.092742  0.684940\n",
       "1   -0.213710  0.692250\n",
       "2   -0.375000  0.502190\n",
       "3   -0.513250  0.465640\n",
       "4   -0.524770  0.209800\n",
       "..        ...       ...\n",
       "112 -0.720620  0.538740\n",
       "113 -0.593890  0.494880\n",
       "114 -0.484450  0.999270\n",
       "115 -0.006336  0.999270\n",
       "116  0.632650 -0.030612\n",
       "\n",
       "[117 rows x 2 columns]"
      ]
     },
     "execution_count": 17,
     "metadata": {},
     "output_type": "execute_result"
    }
   ],
   "source": [
    "X= df.iloc[:,:2]\n",
    "X"
   ]
  },
  {
   "cell_type": "code",
   "execution_count": 18,
   "id": "5ec59c7e",
   "metadata": {},
   "outputs": [
    {
     "data": {
      "text/html": [
       "<div>\n",
       "<style scoped>\n",
       "    .dataframe tbody tr th:only-of-type {\n",
       "        vertical-align: middle;\n",
       "    }\n",
       "\n",
       "    .dataframe tbody tr th {\n",
       "        vertical-align: top;\n",
       "    }\n",
       "\n",
       "    .dataframe thead th {\n",
       "        text-align: right;\n",
       "    }\n",
       "</style>\n",
       "<table border=\"1\" class=\"dataframe\">\n",
       "  <thead>\n",
       "    <tr style=\"text-align: right;\">\n",
       "      <th></th>\n",
       "      <th>1</th>\n",
       "    </tr>\n",
       "  </thead>\n",
       "  <tbody>\n",
       "    <tr>\n",
       "      <th>0</th>\n",
       "      <td>1</td>\n",
       "    </tr>\n",
       "    <tr>\n",
       "      <th>1</th>\n",
       "      <td>1</td>\n",
       "    </tr>\n",
       "    <tr>\n",
       "      <th>2</th>\n",
       "      <td>1</td>\n",
       "    </tr>\n",
       "    <tr>\n",
       "      <th>3</th>\n",
       "      <td>1</td>\n",
       "    </tr>\n",
       "    <tr>\n",
       "      <th>4</th>\n",
       "      <td>1</td>\n",
       "    </tr>\n",
       "    <tr>\n",
       "      <th>...</th>\n",
       "      <td>...</td>\n",
       "    </tr>\n",
       "    <tr>\n",
       "      <th>112</th>\n",
       "      <td>0</td>\n",
       "    </tr>\n",
       "    <tr>\n",
       "      <th>113</th>\n",
       "      <td>0</td>\n",
       "    </tr>\n",
       "    <tr>\n",
       "      <th>114</th>\n",
       "      <td>0</td>\n",
       "    </tr>\n",
       "    <tr>\n",
       "      <th>115</th>\n",
       "      <td>0</td>\n",
       "    </tr>\n",
       "    <tr>\n",
       "      <th>116</th>\n",
       "      <td>0</td>\n",
       "    </tr>\n",
       "  </tbody>\n",
       "</table>\n",
       "<p>117 rows × 1 columns</p>\n",
       "</div>"
      ],
      "text/plain": [
       "     1\n",
       "0    1\n",
       "1    1\n",
       "2    1\n",
       "3    1\n",
       "4    1\n",
       "..  ..\n",
       "112  0\n",
       "113  0\n",
       "114  0\n",
       "115  0\n",
       "116  0\n",
       "\n",
       "[117 rows x 1 columns]"
      ]
     },
     "execution_count": 18,
     "metadata": {},
     "output_type": "execute_result"
    }
   ],
   "source": [
    "y = df.iloc[:,2:]\n",
    "y"
   ]
  },
  {
   "cell_type": "code",
   "execution_count": 19,
   "id": "84d5d639",
   "metadata": {},
   "outputs": [],
   "source": [
    "def standardize(X):\n",
    "    for i in range(shape(X)[1]):\n",
    "        X[:,i] = (X[:,i] - np.mean(X[:,i]))/np.std(X[:,i])"
   ]
  },
  {
   "cell_type": "code",
   "execution_count": 20,
   "id": "c97139c3",
   "metadata": {},
   "outputs": [],
   "source": [
    "def sigmoid(z):  \n",
    "    g = 1/ (1 + np.exp(-z))\n",
    "    return g"
   ]
  },
  {
   "cell_type": "code",
   "execution_count": 21,
   "id": "188fe637",
   "metadata": {},
   "outputs": [],
   "source": [
    "def compute_cost(X, y, w, b, lambda_= 1):\n",
    "    m, n = X.shape\n",
    "    total_cost=0.0\n",
    "    for i in range(m):\n",
    "        z = np.dot(X[i],w) +b\n",
    "        f_w = sigmoid(z)\n",
    "        total_cost = total_cost + (-y[i]*np.log(f_w)) -(1-y[i])*np.log(1-f_w)\n",
    "    total_cost = total_cost/m\n",
    "    return total_cost"
   ]
  },
  {
   "cell_type": "code",
   "execution_count": 22,
   "id": "a5891619",
   "metadata": {},
   "outputs": [],
   "source": [
    "def compute_gradient(X, y, w, b, lambda_=None): \n",
    "    m, n = X.shape\n",
    "    dj_dw = np.zeros(w.shape)\n",
    "    dj_db = 0.\n",
    "    for i in range(m):\n",
    "        f_wb_i = sigmoid(np.dot(X[i],w) + b)          \n",
    "        err_i  = f_wb_i  - y[i]                       \n",
    "        for j in range(n):\n",
    "            dj_dw[j] = dj_dw[j] + err_i * X[i,j]      \n",
    "        dj_db = dj_db + err_i\n",
    "    dj_dw = dj_dw/m                                   \n",
    "    dj_db = dj_db/m        \n",
    "    return dj_db, dj_dw\n"
   ]
  },
  {
   "cell_type": "code",
   "execution_count": 29,
   "id": "9ca1b68e",
   "metadata": {},
   "outputs": [],
   "source": [
    "import math\n",
    "def gradient_descent(X, y, w_in, b_in, cost_function, gradient_function, alpha, num_iters, lambda_): \n",
    "    m = len(X)\n",
    "    \n",
    "    J_history = []\n",
    "    w_history = []\n",
    "    \n",
    "    for i in range(num_iters):\n",
    "\n",
    "        dj_db, dj_dw = gradient_function(X, y, w_in, b_in, lambda_)   \n",
    "\n",
    "        w_in = w_in - alpha * dj_dw               \n",
    "        b_in = b_in - alpha * dj_db              \\\n",
    "\n",
    "        if i<100000:    \n",
    "            cost =  cost_function(X, y, w_in, b_in, lambda_)\n",
    "            J_history.append(cost)\n",
    "\n",
    "        if i% math.ceil(num_iters/10) == 0 or i == (num_iters-1):\n",
    "            w_history.append(w_in)\n",
    "            print(f\"Iteration {i:4}: Cost {float(J_history[-1]):8.2f}   \")\n",
    "        \n",
    "    return w_in, b_in, J_history, w_history "
   ]
  },
  {
   "cell_type": "code",
   "execution_count": 24,
   "id": "dfe42214",
   "metadata": {},
   "outputs": [],
   "source": [
    "def predict(X, w, b): \n",
    "    m, n = X.shape   \n",
    "    p = np.zeros(m)\n",
    "    for i in range(m):   \n",
    "        z_wb = sigmoid(np.dot(X[i],w)+b)\n",
    "        if z_wb >= 0.5:\n",
    "            p[i] = 1\n",
    "        else:\n",
    "            p[i] =0\n",
    "    return p"
   ]
  },
  {
   "cell_type": "code",
   "execution_count": 25,
   "id": "91166d09",
   "metadata": {},
   "outputs": [
    {
     "name": "stdout",
     "output_type": "stream",
     "text": [
      "Output of predict: shape (4,), value [0. 1. 1. 1.]\n"
     ]
    }
   ],
   "source": [
    "np.random.seed(1)\n",
    "tmp_w = np.random.randn(2)\n",
    "tmp_b = 0.3    \n",
    "tmp_X = np.random.randn(4, 2) - 0.5\n",
    "\n",
    "tmp_p = predict(tmp_X, tmp_w, tmp_b)\n",
    "print(f'Output of predict: shape {tmp_p.shape}, value {tmp_p}')\n"
   ]
  },
  {
   "cell_type": "code",
   "execution_count": 26,
   "id": "9b5e3560",
   "metadata": {},
   "outputs": [],
   "source": [
    "# UNQ_C5\n",
    "def compute_cost_reg(X, y, w, b, lambda_ = 1):\n",
    "    m, n = X.shape\n",
    "    cost_without_reg = compute_cost(X, y, w, b) \n",
    "    reg_cost = 0.\n",
    "    for j in range(n):\n",
    "        reg_cost_j = w[j]**2\n",
    "        reg_cost = reg_cost + reg_cost_j\n",
    "    total_cost = cost_without_reg + (lambda_/(2 * m)) * reg_cost\n",
    "\n",
    "    return total_cost"
   ]
  },
  {
   "cell_type": "code",
   "execution_count": 27,
   "id": "555e9706",
   "metadata": {},
   "outputs": [],
   "source": [
    "def compute_gradient_reg(X, y, w, b, lambda_ = 1): \n",
    "    m, n = X.shape\n",
    "    \n",
    "    dj_db, dj_dw = compute_gradient(X, y, w, b)   \n",
    "    for j in range(n): \n",
    "        dj_dw_j_reg = (lambda_ *w[j])/m\n",
    "        dj_dw[j] = dj_dw[j] + dj_dw_j_reg\n",
    "        \n",
    "    return dj_db, dj_dw"
   ]
  },
  {
   "cell_type": "code",
   "execution_count": 30,
   "id": "50714535",
   "metadata": {},
   "outputs": [
    {
     "name": "stdout",
     "output_type": "stream",
     "text": [
      "Iteration    0: Cost   -17.02   \n",
      "Iteration  100: Cost  -124.26   \n",
      "Iteration  200: Cost     -inf   \n",
      "Iteration  300: Cost      nan   \n",
      "Iteration  400: Cost      nan   \n",
      "Iteration  500: Cost      nan   \n",
      "Iteration  600: Cost      nan   \n",
      "Iteration  700: Cost      nan   \n",
      "Iteration  800: Cost      nan   \n",
      "Iteration  900: Cost      nan   \n",
      "Iteration  999: Cost      nan   \n"
     ]
    },
    {
     "name": "stderr",
     "output_type": "stream",
     "text": [
      "<ipython-input-20-608d512e9b8a>:2: RuntimeWarning: overflow encountered in exp\n",
      "  g = 1/ (1 + np.exp(-z))\n",
      "<ipython-input-21-122fc9ecc4d7>:7: RuntimeWarning: divide by zero encountered in log\n",
      "  total_cost = total_cost + (-y[i]*np.log(f_w)) -(1-y[i])*np.log(1-f_w)\n",
      "<ipython-input-21-122fc9ecc4d7>:7: RuntimeWarning: invalid value encountered in add\n",
      "  total_cost = total_cost + (-y[i]*np.log(f_w)) -(1-y[i])*np.log(1-f_w)\n"
     ]
    }
   ],
   "source": [
    "np.random.seed(1)\n",
    "initial_w = np.random.rand(X.shape[1])-0.5\n",
    "initial_b = 1.\n",
    "X_train = np.random.randn(4, 2) - 0.5\n",
    "y_train = np.random.randn(4, 1) \n",
    "lambda_ = 0.2;                                          \n",
    "iterations = 1000\n",
    "alpha = 10\n",
    "\n",
    "w,b, J_history,_ = gradient_descent(X_train, y_train, initial_w, initial_b, \n",
    "                                    compute_cost_reg, compute_gradient_reg, \n",
    "                                    alpha, iterations, lambda_)"
   ]
  },
  {
   "cell_type": "code",
   "execution_count": null,
   "id": "32057f4c",
   "metadata": {},
   "outputs": [],
   "source": []
  }
 ],
 "metadata": {
  "kernelspec": {
   "display_name": "Python 3",
   "language": "python",
   "name": "python3"
  },
  "language_info": {
   "codemirror_mode": {
    "name": "ipython",
    "version": 3
   },
   "file_extension": ".py",
   "mimetype": "text/x-python",
   "name": "python",
   "nbconvert_exporter": "python",
   "pygments_lexer": "ipython3",
   "version": "3.8.8"
  }
 },
 "nbformat": 4,
 "nbformat_minor": 5
}
